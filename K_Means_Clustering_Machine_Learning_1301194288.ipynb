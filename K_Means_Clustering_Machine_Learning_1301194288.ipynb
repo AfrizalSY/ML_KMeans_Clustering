{
  "nbformat": 4,
  "nbformat_minor": 0,
  "metadata": {
    "colab": {
      "name": "K-Means Clustering_Machine Learning_1301194288",
      "private_outputs": true,
      "provenance": [],
      "collapsed_sections": [],
      "authorship_tag": "ABX9TyN5m5DkVNHTIdmXd3ieghoj",
      "include_colab_link": true
    },
    "kernelspec": {
      "name": "python3",
      "display_name": "Python 3"
    },
    "language_info": {
      "name": "python"
    }
  },
  "cells": [
    {
      "cell_type": "markdown",
      "metadata": {
        "id": "view-in-github",
        "colab_type": "text"
      },
      "source": [
        "<a href=\"https://colab.research.google.com/github/AfrizalSY/ML_KMeans_Clustering/blob/main/K_Means_Clustering_Machine_Learning_1301194288.ipynb\" target=\"_parent\"><img src=\"https://colab.research.google.com/assets/colab-badge.svg\" alt=\"Open In Colab\"/></a>"
      ]
    },
    {
      "cell_type": "markdown",
      "metadata": {
        "id": "tfcG2wprcy0I"
      },
      "source": [
        "Nama : Afrizal Syahruluddin Yusuf\n",
        "\n",
        "NIM  : 1301194288\n",
        "\n",
        "Kelas: IF-43-09"
      ]
    },
    {
      "cell_type": "code",
      "metadata": {
        "id": "5bISpd2Oz0Lg"
      },
      "source": [
        "!pip install missingno"
      ],
      "execution_count": null,
      "outputs": []
    },
    {
      "cell_type": "code",
      "metadata": {
        "id": "qYFXazW_S_nN"
      },
      "source": [
        "from scipy.spatial.distance import cdist\n",
        "from sklearn.decomposition import PCA\n",
        "from sklearn import preprocessing\n",
        "\n",
        "import missingno as msno\n",
        "import matplotlib.pyplot as plt\n",
        "import seaborn as sns\n",
        "import pandas as pd\n",
        "import numpy as np\n",
        "import random\n",
        "import math"
      ],
      "execution_count": null,
      "outputs": []
    },
    {
      "cell_type": "markdown",
      "metadata": {
        "id": "-7l0xu5Zvi1G"
      },
      "source": [
        "**Pemanggilan Data**"
      ]
    },
    {
      "cell_type": "code",
      "metadata": {
        "id": "VVZBlpwgeCxZ"
      },
      "source": [
        "df= pd.read_csv(\"https://raw.githubusercontent.com/AfrizalSY/ML_KMeans_Clustering/main/kendaraan_train.csv\")\n",
        "df.sample(5)"
      ],
      "execution_count": null,
      "outputs": []
    },
    {
      "cell_type": "code",
      "metadata": {
        "id": "I3c3BV7V0dZl"
      },
      "source": [
        "msno.matrix(df)"
      ],
      "execution_count": null,
      "outputs": []
    },
    {
      "cell_type": "code",
      "metadata": {
        "id": "SJ0HlHiY0xrg"
      },
      "source": [
        "df.isna().sum()*100/len(df)"
      ],
      "execution_count": null,
      "outputs": []
    },
    {
      "cell_type": "code",
      "metadata": {
        "id": "laUo6fpd2H4E"
      },
      "source": [
        "data=df.fillna(df.mean())"
      ],
      "execution_count": null,
      "outputs": []
    },
    {
      "cell_type": "code",
      "metadata": {
        "id": "aoEB5CzJ24vJ"
      },
      "source": [
        "df.describe()"
      ],
      "execution_count": null,
      "outputs": []
    },
    {
      "cell_type": "markdown",
      "metadata": {
        "id": "RuRAb7czfb93"
      },
      "source": [
        "**Memeriksa Tipe Data**"
      ]
    },
    {
      "cell_type": "code",
      "metadata": {
        "id": "DKgjPm99fH8n"
      },
      "source": [
        "df.dtypes"
      ],
      "execution_count": null,
      "outputs": []
    },
    {
      "cell_type": "markdown",
      "metadata": {
        "id": "XjeZmkQhfh1z"
      },
      "source": [
        "**Memeriksa Data**"
      ]
    },
    {
      "cell_type": "code",
      "metadata": {
        "id": "5Rr-IyXNfM65"
      },
      "source": [
        "df.isna().sum()"
      ],
      "execution_count": null,
      "outputs": []
    },
    {
      "cell_type": "markdown",
      "metadata": {
        "id": "Ad2h4vgMqFN7"
      },
      "source": [
        "**Menampilkan Total Data**"
      ]
    },
    {
      "cell_type": "code",
      "metadata": {
        "id": "Qxy1zvaUjGnB"
      },
      "source": [
        "print(\"Total Data :\", len(df))"
      ],
      "execution_count": null,
      "outputs": []
    },
    {
      "cell_type": "markdown",
      "metadata": {
        "id": "7kfOT597rwn9"
      },
      "source": [
        "**Data PreProcessing**"
      ]
    },
    {
      "cell_type": "code",
      "metadata": {
        "id": "kExeXKLXrzgH"
      },
      "source": [
        "df[df.duplicated()]"
      ],
      "execution_count": null,
      "outputs": []
    },
    {
      "cell_type": "code",
      "metadata": {
        "id": "cvEyB0spskj4"
      },
      "source": [
        "df=df.drop_duplicates()\n",
        "df"
      ],
      "execution_count": null,
      "outputs": []
    },
    {
      "cell_type": "code",
      "metadata": {
        "id": "szK1XZ2TtKBO"
      },
      "source": [
        "dummy = pd.get_dummies(df['Umur_Kendaraan'])"
      ],
      "execution_count": null,
      "outputs": []
    },
    {
      "cell_type": "code",
      "metadata": {
        "id": "Z0hQWeAstK8c"
      },
      "source": [
        "df.drop('Umur_Kendaraan',axis=1,inplace=True)"
      ],
      "execution_count": null,
      "outputs": []
    },
    {
      "cell_type": "code",
      "metadata": {
        "id": "wtZwTkJTtNij"
      },
      "source": [
        "dummy = pd.get_dummies(df['Jenis_Kelamin'])"
      ],
      "execution_count": null,
      "outputs": []
    }
  ]
}