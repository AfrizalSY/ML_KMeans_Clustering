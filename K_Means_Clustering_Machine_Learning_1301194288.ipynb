{
  "cells": [
    {
      "cell_type": "markdown",
      "metadata": {
        "id": "tfcG2wprcy0I"
      },
      "source": [
        "Nama : Afrizal Syahruluddin Yusuf\n",
        "\n",
        "NIM  : 1301194288\n",
        "\n",
        "Kelas: IF-43-09"
      ]
    },
    {
      "cell_type": "code",
      "execution_count": null,
      "metadata": {
        "id": "5bISpd2Oz0Lg"
      },
      "outputs": [],
      "source": [
        "!pip install missingno"
      ]
    },
    {
      "cell_type": "code",
      "execution_count": 1,
      "metadata": {
        "id": "qYFXazW_S_nN"
      },
      "outputs": [
        {
          "ename": "ModuleNotFoundError",
          "evalue": "No module named 'pandas'",
          "output_type": "error",
          "traceback": [
            "\u001b[1;31m---------------------------------------------------------------------------\u001b[0m",
            "\u001b[1;31mModuleNotFoundError\u001b[0m                       Traceback (most recent call last)",
            "\u001b[1;32mC:\\Users\\AFRIZA~1\\AppData\\Local\\Temp/ipykernel_4328/68342375.py\u001b[0m in \u001b[0;36m<module>\u001b[1;34m\u001b[0m\n\u001b[0;32m      1\u001b[0m \u001b[1;32mimport\u001b[0m \u001b[0mnumpy\u001b[0m \u001b[1;32mas\u001b[0m \u001b[0mnp\u001b[0m\u001b[1;33m\u001b[0m\u001b[1;33m\u001b[0m\u001b[0m\n\u001b[1;32m----> 2\u001b[1;33m \u001b[1;32mimport\u001b[0m \u001b[0mpandas\u001b[0m \u001b[1;32mas\u001b[0m \u001b[0mpd\u001b[0m\u001b[1;33m\u001b[0m\u001b[1;33m\u001b[0m\u001b[0m\n\u001b[0m\u001b[0;32m      3\u001b[0m \u001b[1;32mimport\u001b[0m \u001b[0mseaborn\u001b[0m \u001b[1;32mas\u001b[0m \u001b[0msns\u001b[0m\u001b[1;33m\u001b[0m\u001b[1;33m\u001b[0m\u001b[0m\n\u001b[0;32m      4\u001b[0m \u001b[1;32mimport\u001b[0m \u001b[0mmissingno\u001b[0m \u001b[1;32mas\u001b[0m \u001b[0mmsno\u001b[0m\u001b[1;33m\u001b[0m\u001b[1;33m\u001b[0m\u001b[0m\n\u001b[0;32m      5\u001b[0m \u001b[1;32mimport\u001b[0m \u001b[0mmatplotlib\u001b[0m\u001b[1;33m.\u001b[0m\u001b[0mpyplot\u001b[0m \u001b[1;32mas\u001b[0m \u001b[0mplt\u001b[0m\u001b[1;33m\u001b[0m\u001b[1;33m\u001b[0m\u001b[0m\n",
            "\u001b[1;31mModuleNotFoundError\u001b[0m: No module named 'pandas'"
          ]
        }
      ],
      "source": [
        "import numpy as np\n",
        "import pandas as pd\n",
        "import seaborn as sns\n",
        "import missingno as msno\n",
        "import matplotlib.pyplot as plt\n",
        "\n",
        "from scipy import stats\n",
        "from scipy.spatial.distance import cdist\n",
        "from sklearn.decomposition import PCA\n",
        "from sklearn.metrics import silhouette_score\n",
        "from sklearn.preprocessing import MinMaxScaler\n",
        "from sklearn.preprocessing import StandardScaler\n",
        "from sklearn.preprocessing import Normalizer\n",
        "from sklearn.preprocessing import OneHotEncoder\n",
        "from sklearn.preprocessing import OrdinalEncoder"
      ]
    },
    {
      "cell_type": "markdown",
      "metadata": {
        "id": "-7l0xu5Zvi1G"
      },
      "source": [
        "**Pemanggilan Data**"
      ]
    },
    {
      "cell_type": "code",
      "execution_count": null,
      "metadata": {
        "id": "VVZBlpwgeCxZ"
      },
      "outputs": [],
      "source": [
        "data = pd.read_csv(\"https://raw.githubusercontent.com/AfrizalSY/ML_KMeans_Clustering/main/kendaraan_train.csv\")"
      ]
    },
    {
      "cell_type": "code",
      "execution_count": null,
      "metadata": {
        "id": "Z9maHc8RJpTb"
      },
      "outputs": [],
      "source": [
        "data.head()"
      ]
    },
    {
      "cell_type": "code",
      "execution_count": null,
      "metadata": {
        "id": "zYpPeWG7JueO"
      },
      "outputs": [],
      "source": [
        "data.dtypes"
      ]
    },
    {
      "cell_type": "code",
      "execution_count": null,
      "metadata": {
        "id": "bQNm8xMpJztJ"
      },
      "outputs": [],
      "source": [
        "data.describe()"
      ]
    },
    {
      "cell_type": "code",
      "execution_count": null,
      "metadata": {
        "id": "naPej82eJ4fo"
      },
      "outputs": [],
      "source": [
        "msno.matrix(data)"
      ]
    },
    {
      "cell_type": "code",
      "execution_count": null,
      "metadata": {
        "id": "PzfgXC7iKV_3"
      },
      "outputs": [],
      "source": [
        "msno.bar(data)"
      ]
    },
    {
      "cell_type": "code",
      "execution_count": null,
      "metadata": {
        "id": "zCcp9lTwKceS"
      },
      "outputs": [],
      "source": [
        "data.isna().sum()*100/len(data)"
      ]
    },
    {
      "cell_type": "code",
      "execution_count": null,
      "metadata": {
        "id": "2Tmszz9tKlTs"
      },
      "outputs": [],
      "source": [
        "df = data"
      ]
    },
    {
      "cell_type": "code",
      "execution_count": null,
      "metadata": {
        "id": "Nef13xBIKvnq"
      },
      "outputs": [],
      "source": [
        "df"
      ]
    },
    {
      "cell_type": "code",
      "execution_count": null,
      "metadata": {
        "id": "bP2V72exKyy-"
      },
      "outputs": [],
      "source": [
        "df['Umur']=df['Umur'].fillna(df['Umur'].mean())\n",
        "df['Premi']=df['Premi'].fillna(df['Kanal_Penjualan'].mean())\n",
        "df['Kanal_Penjualan']=df['Kanal_Penjualan'].fillna(df['Kanal_Penjualan'].mean())\n",
        "df['Lama_Berlangganan']=df['Lama_Berlangganan'].fillna(df['Lama_Berlangganan'].mean())"
      ]
    },
    {
      "cell_type": "code",
      "execution_count": null,
      "metadata": {
        "id": "svvDc_R7LASP"
      },
      "outputs": [],
      "source": [
        "df['Umur_Kendaraan']=df['Umur_Kendaraan'].fillna(df['Umur_Kendaraan'].mode().iloc[0])\n",
        "df['Kode_Daerah']=df['Kode_Daerah'].fillna(df['Kode_Daerah'].mode().iloc[0])\n",
        "df['Kendaraan_Rusak']=df['Kendaraan_Rusak'].fillna(df['Kendaraan_Rusak'].mode().iloc[0])\n",
        "df['Jenis_Kelamin']=df['Jenis_Kelamin'].fillna(df['Jenis_Kelamin'].mode().iloc[0])\n",
        "df['SIM']=df['SIM'].fillna(df['SIM'].mode().iloc[0])\n",
        "df['Sudah_Asuransi']=df['Sudah_Asuransi'].fillna(df['Sudah_Asuransi'].mode().iloc[0])"
      ]
    },
    {
      "cell_type": "code",
      "execution_count": null,
      "metadata": {
        "id": "j9tbVuQJLFQu"
      },
      "outputs": [],
      "source": [
        "dummies = pd.get_dummies(df[['Jenis_Kelamin', 'Kendaraan_Rusak']], drop_first=True)\n",
        "df = pd.concat([df.drop(['Jenis_Kelamin', 'Kendaraan_Rusak'],axis=1), dummies],axis=1)\n",
        "\n",
        "dummies2 = pd.get_dummies(df['Umur_Kendaraan'])\n",
        "df = pd.concat([df.drop(['Umur_Kendaraan'],axis=1),dummies2],axis=1)"
      ]
    },
    {
      "cell_type": "code",
      "execution_count": null,
      "metadata": {
        "id": "V9b2gAgMLGuG"
      },
      "outputs": [],
      "source": [
        "dummies = pd.get_dummies(df['SIM'],drop_first=True)\n",
        "df=df.drop(['SIM'],axis=1)\n",
        "df['SIM_Ada'] = dummies[1.0]\n",
        "\n",
        "dummies = pd.get_dummies(df['Sudah_Asuransi'],drop_first=True)\n",
        "df=df.drop(['Sudah_Asuransi'],axis=1)\n",
        "df['Sudah_Asuransi'] = dummies[1.0]"
      ]
    },
    {
      "cell_type": "code",
      "execution_count": null,
      "metadata": {
        "id": "ljwhk-Z2LL6L"
      },
      "outputs": [],
      "source": [
        "df.isna().any()"
      ]
    },
    {
      "cell_type": "code",
      "execution_count": null,
      "metadata": {
        "id": "0ZsYcqeMLS65"
      },
      "outputs": [],
      "source": [
        "df"
      ]
    },
    {
      "cell_type": "code",
      "execution_count": null,
      "metadata": {
        "id": "oAbNggH3LeSC"
      },
      "outputs": [],
      "source": [
        "df.dtypes"
      ]
    },
    {
      "cell_type": "code",
      "execution_count": null,
      "metadata": {
        "id": "8oXkKNdNLjuQ"
      },
      "outputs": [],
      "source": [
        "df.corr().style.background_gradient()"
      ]
    },
    {
      "cell_type": "code",
      "execution_count": null,
      "metadata": {
        "id": "HFmWYSRYLqxg"
      },
      "outputs": [],
      "source": [
        "fig, ax = plt.subplots(figsize=(15,10))\n",
        "sns.heatmap(df.corr(), annot=True, linewidth=1, ax=ax)"
      ]
    },
    {
      "cell_type": "code",
      "execution_count": null,
      "metadata": {
        "id": "sr4rhOak2nsW"
      },
      "outputs": [],
      "source": [
        "sns.countplot(df['Tertarik'])"
      ]
    },
    {
      "cell_type": "code",
      "execution_count": null,
      "metadata": {
        "id": "Gd-Uber4Mw18"
      },
      "outputs": [],
      "source": [
        "df1 = df[['Umur', 'Kanal_Penjualan', 'Tertarik']]"
      ]
    },
    {
      "cell_type": "code",
      "execution_count": null,
      "metadata": {
        "id": "ItryCpJUM_O3"
      },
      "outputs": [],
      "source": [
        "plt.scatter(df1['Umur'], df1['Kanal_Penjualan'])"
      ]
    },
    {
      "cell_type": "code",
      "execution_count": null,
      "metadata": {
        "id": "Jjgs_Oj8OG_w"
      },
      "outputs": [],
      "source": [
        "minmax = MinMaxScaler()\n",
        "minmax_data = minmax.fit_transform(df1)\n",
        "plt.scatter(minmax_data[:,0], minmax_data[:,1],c='lightblue',alpha=.3)"
      ]
    },
    {
      "cell_type": "markdown",
      "metadata": {
        "id": "yBUwtTGX5sWN"
      },
      "source": [
        "### **PCA (Principal Component Analysis)**"
      ]
    },
    {
      "cell_type": "code",
      "execution_count": null,
      "metadata": {
        "id": "Xq7DM-TyPyS_"
      },
      "outputs": [],
      "source": [
        "pca = PCA(2)\n",
        "pca_data = pca.fit_transform(minmax_data)\n",
        "plt.scatter(pca_data[:,0], pca_data[:,1], c = 'lightblue' )"
      ]
    },
    {
      "cell_type": "code",
      "execution_count": null,
      "metadata": {
        "id": "WCqnL1JVQYqq"
      },
      "outputs": [],
      "source": [
        "box = df1.boxplot(['Kanal_Penjualan', 'Umur'])"
      ]
    },
    {
      "cell_type": "code",
      "execution_count": null,
      "metadata": {
        "id": "dndni4HNQ57q"
      },
      "outputs": [],
      "source": [
        "print(round(df1.describe(), 2))"
      ]
    },
    {
      "cell_type": "code",
      "execution_count": null,
      "metadata": {
        "id": "3XryVd9WRZom"
      },
      "outputs": [],
      "source": [
        "def kmeans(x,k, iter):\n",
        "    idx = np.random.choice(len(x), k, replace=False)\n",
        "    #Random Centroid\n",
        "    centroids = x[idx, :]\n",
        "    #Menentukan jarak antara centroid dan semua data\n",
        "    distances = cdist(x, centroids, 'euclidean')\n",
        "    #Centroid dengan jarak paling dekat/kecil\n",
        "    points = np.array([np.argmin(i) for i in distances])\n",
        "\n",
        "    for _ in range(iter):\n",
        "      centroids = []\n",
        "      for idx in range(k):\n",
        "          #Update lokasi centroid\n",
        "          temp_cent = x[points==idx].mean(axis=0)\n",
        "          centroids.append(temp_cent)\n",
        "      centroids = np.vstack(centroids)\n",
        "      distances = cdist(x, centroids, 'euclidean')\n",
        "      points = np.array([np.argmin(i) for i in distances])\n",
        "    return points, centroids\n",
        "\n",
        "pca = PCA(2)\n",
        "pca_data = pca.fit_transform(minmax_data)\n",
        "result = kmeans(pca_data,2, 10)\n",
        "label = result[0]\n",
        "centroid = result[1]"
      ]
    },
    {
      "cell_type": "code",
      "execution_count": null,
      "metadata": {
        "id": "xRY4MnFUVnTl"
      },
      "outputs": [],
      "source": [
        "label"
      ]
    },
    {
      "cell_type": "code",
      "execution_count": null,
      "metadata": {
        "id": "HbuzXdKnWN5O"
      },
      "outputs": [],
      "source": [
        "u_labels = np.unique(label)\n",
        "for i in u_labels:\n",
        "    for k in range(len(centroid)):\n",
        "      plt.scatter(centroid[k][0],centroid[k][1], zorder=2, color=\"black\")\n",
        "    plt.scatter(pca_data[label == i , 0] , pca_data[label == i , 1] , alpha=.5, label = i)\n",
        "plt.legend()\n",
        "plt.show()"
      ]
    },
    {
      "cell_type": "code",
      "execution_count": null,
      "metadata": {
        "id": "MLVB6Qt_6oCk"
      },
      "outputs": [],
      "source": [
        "n_clusters=range(2,10)\n",
        "sil=[]\n",
        "for i in n_clusters:\n",
        "  fig, ax = plt.subplots()\n",
        "  result1=kmeans(pca_data,i,10)\n",
        "  label1=result1[0]\n",
        "  centroid1=result1[1]\n",
        "  u_labels1 = np.unique(label1)\n",
        "  silhouette_avg = silhouette_score(pca_data, label1)\n",
        "  sil.append(silhouette_avg)\n",
        "  for j in u_labels1:\n",
        "    ax.set_title(\"Silhoutte Score:{}\".format(silhouette_avg))\n",
        "    ax.set_xlabel(\"Fitur1\")\n",
        "    ax.set_ylabel(\"Fitur2\")\n",
        "    for k in range(len(centroid1)):\n",
        "      ax.scatter(centroid1[k][0],centroid1[k][1], zorder=2, color=\"black\")\n",
        "    ax.scatter(pca_data[label1 == j , 0] , pca_data[label1 == j , 1] , alpha=.5, label = j)\n",
        "  plt.legend(loc='lower left')\n",
        "plt.show()"
      ]
    },
    {
      "cell_type": "code",
      "execution_count": null,
      "metadata": {
        "id": "SnGLO0NDWdup"
      },
      "outputs": [],
      "source": [
        "fig, ax = plt.subplots(figsize=(26,10))\n",
        "sns.countplot(x=\"Umur\", data=data,ax=ax)"
      ]
    },
    {
      "cell_type": "code",
      "execution_count": null,
      "metadata": {
        "id": "vUMuI4Q7YkIu"
      },
      "outputs": [],
      "source": [
        "dd2 = df1\n",
        "dd2['Clusters'] = label\n",
        "dd2 = dd2[['Umur', 'Kanal_Penjualan', 'Tertarik', 'Clusters']]\n",
        "dd2.groupby(['Clusters', 'Tertarik']).count()"
      ]
    },
    {
      "cell_type": "code",
      "execution_count": null,
      "metadata": {
        "id": "WIQ6xeIP0MAL"
      },
      "outputs": [],
      "source": [
        "plt.plot(range(2,10),sil, color='blue', linewidth=3,linestyle='dotted', marker='o', markersize=12, markerfacecolor='orange')"
      ]
    },
    {
      "cell_type": "code",
      "execution_count": null,
      "metadata": {
        "id": "ghNETiNN0Pyy"
      },
      "outputs": [],
      "source": [
        "result3=kmeans(pca_data,3,10)\n",
        "label3=result3[0]\n",
        "centroid3=result3[1]\n",
        "u_labels3 = np.unique(label3)\n",
        "for i in u_labels3:\n",
        "    for k in range(len(centroid3)):\n",
        "      plt.scatter(centroid3[k][0],centroid3[k][1], zorder=2, color=\"black\")\n",
        "    plt.scatter(pca_data[label3 == i , 0] , pca_data[label3 == i , 1], alpha=.5, label = i)\n",
        "plt.legend()\n",
        "plt.show()"
      ]
    },
    {
      "cell_type": "code",
      "execution_count": null,
      "metadata": {
        "id": "EkEQLksZ0M3L"
      },
      "outputs": [],
      "source": [
        "result2=kmeans(pca_data,4,10)\n",
        "label2=result2[0]\n",
        "centroid2=result2[1]\n",
        "u_labels2 = np.unique(label2)\n",
        "for i in u_labels2:\n",
        "    for k in range(len(centroid2)):\n",
        "      plt.scatter(centroid2[k][0],centroid2[k][1], zorder=2, color=\"black\")\n",
        "    plt.scatter(pca_data[label2 == i , 0] , pca_data[label2 == i , 1] , alpha=.5, label = i)\n",
        "plt.legend()\n",
        "plt.show()"
      ]
    },
    {
      "cell_type": "code",
      "execution_count": null,
      "metadata": {
        "id": "Zy7qWfQXZvbg"
      },
      "outputs": [],
      "source": [
        "data_akhir=data\n",
        "data_akhir['Clusters']=label\n",
        "data_akhir.to_csv(r'kendaraan_fix.csv')"
      ]
    },
    {
      "cell_type": "code",
      "execution_count": null,
      "metadata": {
        "id": "pM3terrXZxdJ"
      },
      "outputs": [],
      "source": [
        "data_fix=pd.read_csv('kendaraan_fix.csv')"
      ]
    },
    {
      "cell_type": "code",
      "execution_count": null,
      "metadata": {
        "id": "jOaMk-QdZ6pp"
      },
      "outputs": [],
      "source": [
        "data_fix[data_fix['Clusters']==1]"
      ]
    }
  ],
  "metadata": {
    "colab": {
      "collapsed_sections": [],
      "name": "K-Means Clustering_Machine Learning_1301194288",
      "private_outputs": true,
      "provenance": []
    },
    "kernelspec": {
      "display_name": "Python 3",
      "name": "python3"
    },
    "language_info": {
      "codemirror_mode": {
        "name": "ipython",
        "version": 3
      },
      "file_extension": ".py",
      "mimetype": "text/x-python",
      "name": "python",
      "nbconvert_exporter": "python",
      "pygments_lexer": "ipython3",
      "version": "3.9.2"
    }
  },
  "nbformat": 4,
  "nbformat_minor": 0
}
