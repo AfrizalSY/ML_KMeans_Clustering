{
  "nbformat": 4,
  "nbformat_minor": 0,
  "metadata": {
    "colab": {
      "name": "K-Means Clustering_Machine Learning_1301194288",
      "private_outputs": true,
      "provenance": [],
      "collapsed_sections": [],
      "authorship_tag": "ABX9TyM5HeVcxggezFMZDax88uo6",
      "include_colab_link": true
    },
    "kernelspec": {
      "name": "python3",
      "display_name": "Python 3"
    },
    "language_info": {
      "name": "python"
    }
  },
  "cells": [
    {
      "cell_type": "markdown",
      "metadata": {
        "id": "view-in-github",
        "colab_type": "text"
      },
      "source": [
        "<a href=\"https://colab.research.google.com/github/AfrizalSY/ML_KMeans_Clustering/blob/main/K_Means_Clustering_Machine_Learning_1301194288.ipynb\" target=\"_parent\"><img src=\"https://colab.research.google.com/assets/colab-badge.svg\" alt=\"Open In Colab\"/></a>"
      ]
    },
    {
      "cell_type": "markdown",
      "metadata": {
        "id": "tfcG2wprcy0I"
      },
      "source": [
        "Nama : Afrizal Syahruluddin Yusuf\n",
        "\n",
        "NIM  : 1301194288\n",
        "\n",
        "Kelas: IF-43-09"
      ]
    },
    {
      "cell_type": "code",
      "metadata": {
        "id": "5bISpd2Oz0Lg"
      },
      "source": [
        "!pip install missingno"
      ],
      "execution_count": null,
      "outputs": []
    },
    {
      "cell_type": "code",
      "metadata": {
        "id": "qYFXazW_S_nN"
      },
      "source": [
        "import numpy as np\n",
        "import pandas as pd\n",
        "import seaborn as sns\n",
        "import missingno as msno\n",
        "import matplotlib.pyplot as plt\n",
        "\n",
        "from scipy import stats\n",
        "from scipy.spatial.distance import cdist\n",
        "from sklearn.decomposition import PCA\n",
        "from sklearn.preprocessing import MinMaxScaler\n",
        "from sklearn.preprocessing import StandardScaler\n",
        "from sklearn.preprocessing import Normalizer\n",
        "from sklearn.preprocessing import OneHotEncoder\n",
        "from sklearn.preprocessing import OrdinalEncoder"
      ],
      "execution_count": null,
      "outputs": []
    },
    {
      "cell_type": "markdown",
      "metadata": {
        "id": "-7l0xu5Zvi1G"
      },
      "source": [
        "**Pemanggilan Data**"
      ]
    },
    {
      "cell_type": "code",
      "metadata": {
        "id": "VVZBlpwgeCxZ"
      },
      "source": [
        "data = pd.read_csv(\"https://raw.githubusercontent.com/AfrizalSY/ML_KMeans_Clustering/main/kendaraan_train.csv\")"
      ],
      "execution_count": null,
      "outputs": []
    },
    {
      "cell_type": "code",
      "metadata": {
        "id": "Z9maHc8RJpTb"
      },
      "source": [
        "data.head()"
      ],
      "execution_count": null,
      "outputs": []
    },
    {
      "cell_type": "code",
      "metadata": {
        "id": "zYpPeWG7JueO"
      },
      "source": [
        "data.dtypes"
      ],
      "execution_count": null,
      "outputs": []
    },
    {
      "cell_type": "code",
      "metadata": {
        "id": "bQNm8xMpJztJ"
      },
      "source": [
        "data.describe()"
      ],
      "execution_count": null,
      "outputs": []
    },
    {
      "cell_type": "code",
      "metadata": {
        "id": "naPej82eJ4fo"
      },
      "source": [
        "msno.matrix(data)"
      ],
      "execution_count": null,
      "outputs": []
    },
    {
      "cell_type": "code",
      "metadata": {
        "id": "PzfgXC7iKV_3"
      },
      "source": [
        "msno.bar(data)"
      ],
      "execution_count": null,
      "outputs": []
    },
    {
      "cell_type": "code",
      "metadata": {
        "id": "zCcp9lTwKceS"
      },
      "source": [
        "data.isna().sum()*100/len(data)"
      ],
      "execution_count": null,
      "outputs": []
    },
    {
      "cell_type": "code",
      "metadata": {
        "id": "2Tmszz9tKlTs"
      },
      "source": [
        "df = data"
      ],
      "execution_count": null,
      "outputs": []
    },
    {
      "cell_type": "code",
      "metadata": {
        "id": "Nef13xBIKvnq"
      },
      "source": [
        "df"
      ],
      "execution_count": null,
      "outputs": []
    },
    {
      "cell_type": "code",
      "metadata": {
        "id": "bP2V72exKyy-"
      },
      "source": [
        "df['Umur']=df['Umur'].fillna(df['Umur'].mean())\n",
        "df['Premi']=df['Premi'].fillna(df['Kanal_Penjualan'].mean())\n",
        "df['Kanal_Penjualan']=df['Kanal_Penjualan'].fillna(df['Kanal_Penjualan'].mean())\n",
        "df['Lama_Berlangganan']=df['Lama_Berlangganan'].fillna(df['Lama_Berlangganan'].mean())"
      ],
      "execution_count": null,
      "outputs": []
    },
    {
      "cell_type": "code",
      "metadata": {
        "id": "svvDc_R7LASP"
      },
      "source": [
        "df['Umur_Kendaraan']=df['Umur_Kendaraan'].fillna(df['Umur_Kendaraan'].mode().iloc[0])\n",
        "df['Kode_Daerah']=df['Kode_Daerah'].fillna(df['Kode_Daerah'].mode().iloc[0])\n",
        "df['Kendaraan_Rusak']=df['Kendaraan_Rusak'].fillna(df['Kendaraan_Rusak'].mode().iloc[0])\n",
        "df['Jenis_Kelamin']=df['Jenis_Kelamin'].fillna(df['Jenis_Kelamin'].mode().iloc[0])\n",
        "df['SIM']=df['SIM'].fillna(df['SIM'].mode().iloc[0])\n",
        "df['Sudah_Asuransi']=df['Sudah_Asuransi'].fillna(df['Sudah_Asuransi'].mode().iloc[0])"
      ],
      "execution_count": null,
      "outputs": []
    },
    {
      "cell_type": "code",
      "metadata": {
        "id": "j9tbVuQJLFQu"
      },
      "source": [
        "dummies = pd.get_dummies(df[['Jenis_Kelamin', 'Kendaraan_Rusak']], drop_first=True)\n",
        "df = pd.concat([df.drop(['Jenis_Kelamin', 'Kendaraan_Rusak'],axis=1), dummies],axis=1)\n",
        "\n",
        "dummies2 = pd.get_dummies(df['Umur_Kendaraan'])\n",
        "df = pd.concat([df.drop(['Umur_Kendaraan'],axis=1),dummies2],axis=1)"
      ],
      "execution_count": null,
      "outputs": []
    },
    {
      "cell_type": "code",
      "metadata": {
        "id": "V9b2gAgMLGuG"
      },
      "source": [
        "dummies = pd.get_dummies(df['SIM'],drop_first=True)\n",
        "df=df.drop(['SIM'],axis=1)\n",
        "df['SIM_Ada'] = dummies[1.0]\n",
        "\n",
        "dummies = pd.get_dummies(df['Sudah_Asuransi'],drop_first=True)\n",
        "df=df.drop(['Sudah_Asuransi'],axis=1)\n",
        "df['Sudah_Asuransi'] = dummies[1.0]"
      ],
      "execution_count": null,
      "outputs": []
    },
    {
      "cell_type": "code",
      "metadata": {
        "id": "ljwhk-Z2LL6L"
      },
      "source": [
        "df.isna().any()"
      ],
      "execution_count": null,
      "outputs": []
    },
    {
      "cell_type": "code",
      "metadata": {
        "id": "0ZsYcqeMLS65"
      },
      "source": [
        "df"
      ],
      "execution_count": null,
      "outputs": []
    },
    {
      "cell_type": "code",
      "metadata": {
        "id": "oAbNggH3LeSC"
      },
      "source": [
        "df.dtypes"
      ],
      "execution_count": null,
      "outputs": []
    },
    {
      "cell_type": "code",
      "metadata": {
        "id": "8oXkKNdNLjuQ"
      },
      "source": [
        "df.corr().style.background_gradient()"
      ],
      "execution_count": null,
      "outputs": []
    },
    {
      "cell_type": "code",
      "metadata": {
        "id": "HFmWYSRYLqxg"
      },
      "source": [
        "fig, ax = plt.subplots(figsize=(15,10))\n",
        "sns.heatmap(df.corr(), annot=True, linewidth=1, ax=ax)"
      ],
      "execution_count": null,
      "outputs": []
    },
    {
      "cell_type": "code",
      "metadata": {
        "id": "Gd-Uber4Mw18"
      },
      "source": [
        "df1 = df[['Umur', 'Kanal_Penjualan', 'Tertarik']]"
      ],
      "execution_count": null,
      "outputs": []
    },
    {
      "cell_type": "code",
      "metadata": {
        "id": "ItryCpJUM_O3"
      },
      "source": [
        "plt.scatter(df1['Umur'], df1['Kanal_Penjualan'])"
      ],
      "execution_count": null,
      "outputs": []
    },
    {
      "cell_type": "code",
      "metadata": {
        "id": "Jjgs_Oj8OG_w"
      },
      "source": [
        "minmax = MinMaxScaler()\n",
        "minmax_data = minmax.fit_transform(df1)\n",
        "plt.scatter(minmax_data[:,0], minmax_data[:,1])"
      ],
      "execution_count": null,
      "outputs": []
    },
    {
      "cell_type": "code",
      "metadata": {
        "id": "Xq7DM-TyPyS_"
      },
      "source": [
        "pca = PCA(2)\n",
        "pca_data = pca.fit_transform(minmax_data)\n",
        "plt.scatter(pca_data[:,0], pca_data[:,1], c = 'lightblue' )"
      ],
      "execution_count": null,
      "outputs": []
    },
    {
      "cell_type": "code",
      "metadata": {
        "id": "WCqnL1JVQYqq"
      },
      "source": [
        "box = df1.boxplot(['Kanal_Penjualan', 'Umur'])"
      ],
      "execution_count": null,
      "outputs": []
    },
    {
      "cell_type": "code",
      "metadata": {
        "id": "dndni4HNQ57q"
      },
      "source": [
        "print(round(df1.describe(), 2))"
      ],
      "execution_count": null,
      "outputs": []
    },
    {
      "cell_type": "code",
      "metadata": {
        "id": "3XryVd9WRZom"
      },
      "source": [
        "def kmeans(x,k, iter):\n",
        "    idx = np.random.choice(len(x), k, replace=False)\n",
        "    #Random Centroid\n",
        "    centroids = x[idx, :]\n",
        "    #Menentukan jarak antara centroid dan semua data\n",
        "    distances = cdist(x, centroids, 'euclidean')\n",
        "    #Centroid dengan jarak paling dekat/kecil\n",
        "    points = np.array([np.argmin(i) for i in distances])\n",
        "\n",
        "    for _ in range(iter):\n",
        "      centroids = []\n",
        "      for idx in range(k):\n",
        "          #Update lokasi centroid\n",
        "          temp_cent = x[points==idx].mean(axis=0)\n",
        "          centroids.append(temp_cent)\n",
        "      centroids = np.vstack(centroids)\n",
        "      distances = cdist(x, centroids, 'euclidean')\n",
        "      points = np.array([np.argmin(i) for i in distances])\n",
        "    return points, centroids\n",
        "\n",
        "#pca = PCA(2)\n",
        "#data = pca.fit_transform(dfg)\n",
        "result = kmeans(pca_data,2, 10)\n",
        "label = result[0]\n",
        "centroid = result[1]"
      ],
      "execution_count": null,
      "outputs": []
    },
    {
      "cell_type": "code",
      "metadata": {
        "id": "xRY4MnFUVnTl"
      },
      "source": [
        "label"
      ],
      "execution_count": null,
      "outputs": []
    },
    {
      "cell_type": "code",
      "metadata": {
        "id": "HbuzXdKnWN5O"
      },
      "source": [
        "u_labels = np.unique(label)\n",
        "for i in u_labels:\n",
        "    for k in range(len(centroid)):\n",
        "      plt.scatter(centroid[k][0],centroid[k][1], zorder=2, color=\"black\")\n",
        "    plt.scatter(pca_data[label == i , 0] , pca_data[label == i , 1] , alpha=.5, label = i)\n",
        "plt.legend()\n",
        "plt.show()"
      ],
      "execution_count": null,
      "outputs": []
    },
    {
      "cell_type": "code",
      "metadata": {
        "id": "SnGLO0NDWdup"
      },
      "source": [
        "fig, ax = plt.subplots(figsize=(26,10))\n",
        "sns.countplot(x=\"Umur\", data=data,ax=ax)"
      ],
      "execution_count": null,
      "outputs": []
    },
    {
      "cell_type": "code",
      "metadata": {
        "id": "vUMuI4Q7YkIu"
      },
      "source": [
        "dd2 = df1\n",
        "dd2['Clusters'] = label\n",
        "dd2 = dd2[['Umur', 'Kanal_Penjualan', 'Tertarik', 'Clusters']]\n",
        "dd2.groupby(['Clusters', 'Tertarik']).count()"
      ],
      "execution_count": null,
      "outputs": []
    },
    {
      "cell_type": "code",
      "metadata": {
        "id": "Zy7qWfQXZvbg"
      },
      "source": [
        "data_akhir=data\n",
        "data_akhir['Clusters']=label\n",
        "data_akhir.to_csv(r'kendaraan_fix.csv')"
      ],
      "execution_count": null,
      "outputs": []
    },
    {
      "cell_type": "code",
      "metadata": {
        "id": "pM3terrXZxdJ"
      },
      "source": [
        "data_fix=pd.read_csv('kendaraan_fix.csv')"
      ],
      "execution_count": null,
      "outputs": []
    },
    {
      "cell_type": "code",
      "metadata": {
        "id": "jOaMk-QdZ6pp"
      },
      "source": [
        "data_fix[data_fix['Clusters']==1]"
      ],
      "execution_count": null,
      "outputs": []
    }
  ]
}